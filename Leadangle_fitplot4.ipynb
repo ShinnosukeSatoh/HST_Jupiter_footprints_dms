{
 "cells": [
  {
   "cell_type": "markdown",
   "metadata": {},
   "source": [
    "# Leadangle_fitplot4.ipynb\n",
    "\n",
    "密度のSystem III経度依存性"
   ]
  },
  {
   "cell_type": "code",
   "execution_count": 58,
   "metadata": {},
   "outputs": [],
   "source": [
    "import numpy as np\n",
    "import math\n",
    "import copy\n",
    "import pandas as pd\n",
    "import matplotlib.pyplot as plt\n",
    "import matplotlib.ticker as ptick\n",
    "from matplotlib.ticker import AutoMinorLocator\n",
    "from matplotlib.colors import LinearSegmentedColormap  # colormapをカスタマイズする\n",
    "import matplotlib.colors as colors\n",
    "import matplotlib.patches as patches\n",
    "import matplotlib.patheffects as pe\n",
    "import B_JRM33 as BJRM\n",
    "import B_equator as BEQ\n",
    "import Leadangle_wave as LeadA\n",
    "from TScmap import TScmap\n",
    "\n",
    "# Color universal design\n",
    "cud4 = ['#FF3300', '#FFF100', '#03AF7A', '#005AFF', '#4DC4FF', '#FF8082', '#F6AA00', '#990099', '#804000']\n",
    "cud4bs = ['#FFCABF', '#FFFF80', '#D8F255', '#BFE4FF', '#FFCA80', '#77D9A8', '#C9ACE6', '#84919E']\n",
    "\n",
    "# matplotlib フォント設定\n",
    "fontname = 'Nimbus Sans'\n",
    "plt.rcParams.update({'font.sans-serif': fontname,\n",
    "                     'font.family': 'sans-serif',\n",
    "                     'mathtext.fontset': 'custom',\n",
    "                     'mathtext.rm': fontname,\n",
    "                     'mathtext.it': fontname+':italic',\n",
    "                     # 'mathtext.bf': 'Nimbus Sans:italic:bold',\n",
    "                     'mathtext.bf': fontname+':bold'\n",
    "                     })\n",
    "params = {\n",
    "    # 'lines.markersize': 1,\n",
    "    # 'lines.linewidth': 1,\n",
    "    'axes.linewidth': 2,\n",
    "    'xtick.major.size': 5,\n",
    "    'xtick.minor.size': 3.5,\n",
    "    'xtick.major.width': 2.0,\n",
    "    'xtick.minor.width': 1.25,\n",
    "    'ytick.major.size': 5,\n",
    "    'ytick.minor.size': 3,\n",
    "    'ytick.major.width': 2.0,\n",
    "    'ytick.minor.width': 1.25,\n",
    "}\n",
    "plt.rcParams.update(params)"
   ]
  },
  {
   "cell_type": "code",
   "execution_count": 59,
   "metadata": {},
   "outputs": [],
   "source": [
    "def generate_cmap(colors):\n",
    "    \"\"\"自分で定義したカラーマップを返す\"\"\"\n",
    "    values = range(len(colors))\n",
    "\n",
    "    vmax = np.ceil(np.max(values))\n",
    "    color_list = []\n",
    "    for v, c in zip(values, colors):\n",
    "        color_list.append((v / vmax, c))\n",
    "    return LinearSegmentedColormap.from_list('custom_cmap', color_list)\n",
    "\n",
    "whiteblue=generate_cmap(['#000000','#010E5E','#042AA6','#0F7CE0','#1AC7FF','#FFFFFF'])"
   ]
  },
  {
   "cell_type": "code",
   "execution_count": 60,
   "metadata": {},
   "outputs": [],
   "source": [
    "# Set legend shadow\n",
    "def legend_shadow(fig, ax, legend, dx, dy):\n",
    "\n",
    "  frame = legend.get_window_extent()\n",
    "\n",
    "  xmin, ymin = fig.transFigure.inverted().transform((frame.xmin, frame.ymin))\n",
    "  xmax, ymax = fig.transFigure.inverted().transform((frame.xmax, frame.ymax))\n",
    "\n",
    "  # plot patch shadow\n",
    "  rect = patches.Rectangle((xmin+dx, ymin+dy), xmax-xmin, ymax-ymin, \n",
    "                          transform=fig.transFigure,\n",
    "                          edgecolor='k', facecolor='k',\n",
    "                          clip_on=False)\n",
    "  ax.add_patch(rect)\n",
    "\n",
    "  return None"
   ]
  },
  {
   "cell_type": "code",
   "execution_count": 61,
   "metadata": {},
   "outputs": [],
   "source": [
    "# 定数\n",
    "MOON = 'Europa'\n",
    "MU0 = 1.26E-6            # 真空中の透磁率\n",
    "AMU = 1.66E-27           # [kg]\n",
    "RJ = 71492E+3            # JUPITER RADIUS [m]\n",
    "C = 2.99792E+8           # 光速 [m/s]\n",
    "OMGJ = 1.75868E-4        # 木星の自転角速度 [rad/s]\n",
    "satovalN = np.recfromtxt('data/JRM33/satellite_foot_N.txt', skip_header=3,\n",
    "                         names=['wlon', 'amlat', 'amwlon', 'iolat', 'iowlon', 'eulat', 'euwlon', 'galat', 'gawlon'])\n",
    "satovalS = np.recfromtxt('data/JRM33/satellite_foot_S.txt', skip_header=3,\n",
    "                         names=['wlon', 'amlat', 'amwlon', 'iolat', 'iowlon', 'eulat', 'euwlon', 'galat', 'gawlon'])"
   ]
  },
  {
   "cell_type": "code",
   "execution_count": 62,
   "metadata": {},
   "outputs": [],
   "source": [
    "# 定数\n",
    "r_orbitM = 9.38*RJ   # ORBITAL RADIUS (average) [m] (Bagenal+2015)\n",
    "r_orbitC = 9.30*RJ   # ORBITAL RADIUS (closest) [m] (Bagenal+2015)\n",
    "r_orbitF = 9.47*RJ   # ORBITAL RADIUS (farthest) [m] (Bagenal+2015)\n",
    "MOONRADI = 1.56E+6   # MOON RADIUS [m]\n",
    "OMG_E = 2.0478E-5    # 衛星の公転角速度 [rad/s]\n",
    "n0 = 110             # [cm-3] (Cassidy+2013)\n",
    "\n",
    "ne_1 = 63            # 電子数密度 [cm-3] (Bagenal+2015)\n",
    "ne_2 = 158           # 電子数密度 [cm-3] (Bagenal+2015)\n",
    "ne_3 = 290           # 電子数密度 [cm-3] (Bagenal+2015)\n",
    "\n",
    "Ai = 18              # 平均イオン原子量 (Bagenal+2015)\n",
    "Zi = 1.4             # 平均イオン価数 [q] (Bagenal+2015)\n",
    "\n",
    "Ti_14 = 72           # 平均イオン温度 [eV] (Best fit 2014_6)\n",
    "rho0_14 = 1703       # プラズマ質量密度 [amu cm-3] (Best fit 2014_6)\n",
    "\n",
    "Ti_22 = 138          # 平均イオン温度 [eV] (Best fit 2022_6)\n",
    "rho0_22 = 2746       # プラズマ質量密度 [amu cm-3] (Best fit 2022_6)\n",
    "\n",
    "H_p = 1.8*RJ         # [m]\n",
    "Hp0 = 0.64*RJ        # 基準スケールハイト [m] (Bagenal&Delamere2011)\n",
    "wlonN = copy.copy(satovalN.wlon)\n",
    "FwlonN = copy.copy(satovalN.euwlon)\n",
    "FlatN = copy.copy(satovalN.eulat)\n",
    "FwlonS = copy.copy(satovalS.euwlon)\n",
    "FlatS = copy.copy(satovalS.eulat)\n",
    "\n",
    "OMGR = OMGJ-OMG_E"
   ]
  },
  {
   "cell_type": "code",
   "execution_count": 63,
   "metadata": {},
   "outputs": [],
   "source": [
    "# Plasma sheet scale height\n",
    "Hp_14 = Hp0*math.sqrt(Ti_14/Ai)       # Scale height [m] (Bagenal&Delamere2011)\n",
    "Hp_22 = Hp0*math.sqrt(Ti_22/Ai)       # Scale height [m] (Bagenal&Delamere2011)"
   ]
  },
  {
   "cell_type": "code",
   "execution_count": 64,
   "metadata": {},
   "outputs": [],
   "source": [
    "# 衛星公転軌道の磁場強度\n",
    "S3wlon = np.radians(np.linspace(0, 360, 50))      # [rad]\n",
    "S3lat = np.zeros(S3wlon.shape)                    # [rad]\n",
    "\n",
    "theta = 0.5*np.pi-S3lat\n",
    "phi = 2*np.pi-S3wlon\n",
    "B = np.zeros(phi.shape)\n",
    "# Br = np.zeros(phi.shape)\n",
    "# Btheta = np.zeros(phi.shape)\n",
    "B_far = np.zeros(phi.shape)\n",
    "B_close = np.zeros(phi.shape)\n",
    "for i in range(phi.size):\n",
    "    x = r_orbitM*math.sin(theta[i])*math.cos(phi[i])\n",
    "    y = r_orbitM*math.sin(theta[i])*math.sin(phi[i])\n",
    "    z = r_orbitM*math.cos(theta[i])\n",
    "    Bv = BJRM.B().JRM33(r_orbitM, theta[i], phi[i])*1E-9      # [T]\n",
    "    Bx = Bv[0]*math.sin(theta[i])*math.cos(phi[i]) \\\n",
    "        + Bv[1]*math.cos(theta[i])*math.cos(phi[i]) \\\n",
    "        - Bv[2]*math.sin(phi[i])\n",
    "    By = Bv[0]*math.sin(theta[i])*math.sin(phi[i]) \\\n",
    "        + Bv[1]*math.cos(theta[i])*math.sin(phi[i]) \\\n",
    "        + Bv[2]*math.cos(phi[i])\n",
    "    Bz = Bv[0]*math.cos(theta[i]) - Bv[1]*math.sin(theta[i])\n",
    "    Bcs = BJRM.B().BCS(x, y, z, phi[i])  # [nT]\n",
    "    Bx += Bcs[0]*1E-9       # [T]\n",
    "    By += Bcs[1]*1E-9       # [T]\n",
    "    Bz += Bcs[2]*1E-9       # [T]\n",
    "    B[i] = math.sqrt(Bx**2+By**2+Bz**2)      # [T]\n",
    "\n",
    "    x = r_orbitC*math.sin(theta[i])*math.cos(phi[i])\n",
    "    y = r_orbitC*math.sin(theta[i])*math.sin(phi[i])\n",
    "    z = r_orbitC*math.cos(theta[i])\n",
    "    Bv = BJRM.B().JRM33(r_orbitC, theta[i], phi[i])*1E-9      # [T]\n",
    "    Bx = Bv[0]*math.sin(theta[i])*math.cos(phi[i]) \\\n",
    "        + Bv[1]*math.cos(theta[i])*math.cos(phi[i]) \\\n",
    "        - Bv[2]*math.sin(phi[i])\n",
    "    By = Bv[0]*math.sin(theta[i])*math.sin(phi[i]) \\\n",
    "        + Bv[1]*math.cos(theta[i])*math.sin(phi[i]) \\\n",
    "        + Bv[2]*math.cos(phi[i])\n",
    "    Bz = Bv[0]*math.cos(theta[i]) - Bv[1]*math.sin(theta[i])\n",
    "    Bcs = BJRM.B().BCS(x, y, z, phi[i])  # [nT]\n",
    "    Bx += Bcs[0]*1E-9       # [T]\n",
    "    By += Bcs[1]*1E-9       # [T]\n",
    "    Bz += Bcs[2]*1E-9       # [T]\n",
    "    B_close[i] = math.sqrt(Bx**2+By**2+Bz**2)      # [T]\n",
    "\n",
    "    x = r_orbitF*math.sin(theta[i])*math.cos(phi[i])\n",
    "    y = r_orbitF*math.sin(theta[i])*math.sin(phi[i])\n",
    "    z = r_orbitF*math.cos(theta[i])\n",
    "    Bv = BJRM.B().JRM33(r_orbitF, theta[i], phi[i])*1E-9      # [T]\n",
    "    Bx = Bv[0]*math.sin(theta[i])*math.cos(phi[i]) \\\n",
    "        + Bv[1]*math.cos(theta[i])*math.cos(phi[i]) \\\n",
    "        - Bv[2]*math.sin(phi[i])\n",
    "    By = Bv[0]*math.sin(theta[i])*math.sin(phi[i]) \\\n",
    "        + Bv[1]*math.cos(theta[i])*math.sin(phi[i]) \\\n",
    "        + Bv[2]*math.cos(phi[i])\n",
    "    Bz = Bv[0]*math.cos(theta[i]) - Bv[1]*math.sin(theta[i])\n",
    "    Bcs = BJRM.B().BCS(x, y, z, phi[i])  # [nT]\n",
    "    Bx += Bcs[0]*1E-9       # [T]\n",
    "    By += Bcs[1]*1E-9       # [T]\n",
    "    Bz += Bcs[2]*1E-9       # [T]\n",
    "    B_far[i] = math.sqrt(Bx**2+By**2+Bz**2)      # [T]"
   ]
  },
  {
   "cell_type": "code",
   "execution_count": 65,
   "metadata": {},
   "outputs": [],
   "source": [
    "# 衛星のトーラス内相対位置\n",
    "# S3RH座標系の(x, y, z)座標\n",
    "x0 = r_orbitM*np.cos(phi)\n",
    "y0 = r_orbitM*np.sin(phi)\n",
    "z0 = np.zeros(x0.shape)\n",
    "rvec0 = np.array([x0, y0, z0])\n",
    "\n",
    "# S3RH で Z軸 の(右ネジ)まわりに-65.8度回転\n",
    "phiRH0 = math.radians(-65.8)    # Connerney+2020\n",
    "rvec0 = np.array([\n",
    "    rvec0[0, :]*math.cos(phiRH0) - rvec0[1, :]*math.sin(phiRH0),\n",
    "    rvec0[0, :]*math.sin(phiRH0) + rvec0[1, :]*math.cos(phiRH0),\n",
    "    rvec0[2, :]\n",
    "])\n",
    "\n",
    "# S3RH で X軸 の(右ネジ)まわりに-7度回転 -> 遠心力座標系に\n",
    "TILT0 = math.radians(6.7)\n",
    "rvec = np.array([\n",
    "    rvec0[0, :],\n",
    "    rvec0[1, :]*math.cos(TILT0) - rvec0[2, :]*math.sin(TILT0),\n",
    "    rvec0[1, :]*math.sin(TILT0) + rvec0[2, :]*math.cos(TILT0)\n",
    "])\n",
    "\n",
    "# 遠心力座標系における緯度を計算する\n",
    "theta_cent = np.arccos(rvec[2, :]/r_orbitM)     # 余緯度 [rad]\n",
    "lat_cent = np.degrees(0.5*np.pi-theta_cent)     # 緯度 [deg]"
   ]
  },
  {
   "cell_type": "markdown",
   "metadata": {},
   "source": [
    "# リトリーバル結果"
   ]
  },
  {
   "cell_type": "code",
   "execution_count": 66,
   "metadata": {},
   "outputs": [],
   "source": [
    "rho14 = np.zeros(S3wlon.size)\n",
    "rho22 = np.zeros(S3wlon.size)\n",
    "\n",
    "for i in range(S3wlon.size):\n",
    "    S0 = LeadA.Awave().tracefield(r_orbitM, S3wlon[i])\n",
    "\n",
    "    # プラズマ質量密度 rho\n",
    "    rho14[i] = rho0_14*np.exp(-(S0/Hp_14)**2)  # [amu cm-3]\n",
    "    rho22[i] = rho0_22*np.exp(-(S0/Hp_22)**2)  # [amu cm-3]\n"
   ]
  },
  {
   "cell_type": "code",
   "execution_count": 67,
   "metadata": {},
   "outputs": [
    {
     "data": {
      "image/png": "[encoded data removed]",
      "text/plain": [
       "<Figure size 500x320 with 1 Axes>"
      ]
     },
     "metadata": {},
     "output_type": "display_data"
    }
   ],
   "source": [
    "fsize=18\n",
    "fig, ax = plt.subplots(figsize=(5,3.2), dpi=100)\n",
    "ax.tick_params(axis='both', labelsize=fsize)\n",
    "ax.set_xlim(0,360)\n",
    "ax.set_xticks(np.arange(0, 361, 45, dtype=int))\n",
    "ax.set_xticklabels(np.arange(0, 361, 45, dtype=int))\n",
    "ax.xaxis.set_minor_locator(AutoMinorLocator(3))  # minor ticks\n",
    "ax.set_ylim(0,700)\n",
    "ax.set_yticks(np.linspace(0, 700, 8, dtype=int))\n",
    "ax.set_yticklabels(np.linspace(0, 700, 8, dtype=int))\n",
    "ax.set_xlabel('Moon System III longitude $\\\\lambda_{III}$ [deg]', fontsize=fsize)\n",
    "ax.set_ylabel('PWS Electron Density\\n[cm$^{-3}$]', fontsize=fsize)\n",
    "ax.plot(np.degrees(S3wlon), (rho14/Ai)*Zi, color=cud4[0])\n",
    "ax.plot(np.degrees(S3wlon), (rho22/Ai)*Zi, color=cud4[3])\n",
    "\n",
    "plt.show()"
   ]
  },
  {
   "cell_type": "code",
   "execution_count": 68,
   "metadata": {},
   "outputs": [
    {
     "name": "stdout",
     "output_type": "stream",
     "text": [
      "280.0 155.55555555555554\n",
      "213.57777777777775 132.45555555555555\n"
     ]
    }
   ],
   "source": [
    "print((3600/Ai)*Zi, (2000/Ai)*Zi)\n",
    "print((2746/Ai)*Zi, (1703/Ai)*Zi)"
   ]
  },
  {
   "cell_type": "code",
   "execution_count": null,
   "metadata": {},
   "outputs": [],
   "source": []
  }
 ],
 "metadata": {
  "kernelspec": {
   "display_name": "py3104",
   "language": "python",
   "name": "python3"
  },
  "language_info": {
   "codemirror_mode": {
    "name": "ipython",
    "version": 3
   },
   "file_extension": ".py",
   "mimetype": "text/x-python",
   "name": "python",
   "nbconvert_exporter": "python",
   "pygments_lexer": "ipython3",
   "version": "3.1.-1"
  }
 },
 "nbformat": 4,
 "nbformat_minor": 2
}
